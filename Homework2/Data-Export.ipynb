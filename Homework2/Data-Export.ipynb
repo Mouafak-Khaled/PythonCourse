{
 "cells": [
  {
   "cell_type": "markdown",
   "id": "8f7d6036",
   "metadata": {},
   "source": [
    "## Import Libraries\n"
   ]
  },
  {
   "cell_type": "code",
   "execution_count": 1,
   "id": "099babbc",
   "metadata": {},
   "outputs": [],
   "source": [
    "import pandas as pd\n",
    "import numpy as np\n",
    "import seaborn as sns\n",
    "import matplotlib.pyplot as plt\n",
    "%matplotlib inline\n"
   ]
  },
  {
   "cell_type": "markdown",
   "id": "55e900bb",
   "metadata": {},
   "source": [
    "## Kaggle API Connection "
   ]
  },
  {
   "cell_type": "code",
   "execution_count": 2,
   "id": "632eff83",
   "metadata": {},
   "outputs": [],
   "source": [
    "from kaggle.api.kaggle_api_extended import KaggleApi\n",
    "api = KaggleApi()\n",
    "api.authenticate()"
   ]
  },
  {
   "cell_type": "markdown",
   "id": "c36b2fd3",
   "metadata": {},
   "source": [
    "## Download Data from Kaggle "
   ]
  },
  {
   "cell_type": "code",
   "execution_count": 3,
   "id": "ad766610",
   "metadata": {},
   "outputs": [
    {
     "data": {
      "text/plain": [
       "False"
      ]
     },
     "execution_count": 3,
     "metadata": {},
     "output_type": "execute_result"
    }
   ],
   "source": [
    "api.dataset_download_file('budincsevity/szeged-weather','weatherHistory.csv')"
   ]
  },
  {
   "cell_type": "markdown",
   "id": "1422e496",
   "metadata": {},
   "source": [
    "## Unzip The Downloaded Dataset File "
   ]
  },
  {
   "cell_type": "code",
   "execution_count": 4,
   "id": "c1f71cbb",
   "metadata": {},
   "outputs": [],
   "source": [
    "from zipfile import ZipFile\n",
    "zf = ZipFile('weatherHistory.csv.zip')\n",
    "#extracted data is saved in the same directory as notebook\n",
    "zf.extractall() \n",
    "zf.close()"
   ]
  },
  {
   "cell_type": "markdown",
   "id": "05c70c38",
   "metadata": {},
   "source": [
    "## Read Required Data From CSV File"
   ]
  },
  {
   "cell_type": "code",
   "execution_count": 24,
   "id": "3c6ae2b7",
   "metadata": {},
   "outputs": [],
   "source": [
    "dataset = np.array(pd.read_csv('weatherHistory.csv', usecols=['Apparent Temperature (C)', 'Humidity']))"
   ]
  },
  {
   "cell_type": "markdown",
   "id": "ca9d793c",
   "metadata": {},
   "source": [
    "## Getting Sample Data  "
   ]
  },
  {
   "cell_type": "code",
   "execution_count": 35,
   "id": "b7fcaacf",
   "metadata": {},
   "outputs": [],
   "source": [
    "X = np.array(np.reshape(dataset[:2000, 0], (2000, 1)))\n",
    "Y = np.array(np.reshape(dataset[:2000, 0], (2000, 1)))\n"
   ]
  },
  {
   "cell_type": "code",
   "execution_count": null,
   "id": "a313ee46",
   "metadata": {},
   "outputs": [],
   "source": []
  }
 ],
 "metadata": {
  "kernelspec": {
   "display_name": "Python 3",
   "language": "python",
   "name": "python3"
  },
  "language_info": {
   "codemirror_mode": {
    "name": "ipython",
    "version": 3
   },
   "file_extension": ".py",
   "mimetype": "text/x-python",
   "name": "python",
   "nbconvert_exporter": "python",
   "pygments_lexer": "ipython3",
   "version": "3.9.4"
  }
 },
 "nbformat": 4,
 "nbformat_minor": 5
}
