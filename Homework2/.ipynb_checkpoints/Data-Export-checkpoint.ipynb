{
 "cells": [
  {
   "cell_type": "markdown",
   "id": "8f7d6036",
   "metadata": {},
   "source": [
    "## Import Libraries\n"
   ]
  },
  {
   "cell_type": "code",
   "execution_count": 13,
   "id": "099babbc",
   "metadata": {},
   "outputs": [],
   "source": [
    "import pandas as pd\n",
    "import numpy as np\n",
    "import seaborn as sns\n",
    "import matplotlib.pyplot as plt\n",
    "%matplotlib inline\n"
   ]
  },
  {
   "cell_type": "markdown",
   "id": "55e900bb",
   "metadata": {},
   "source": [
    "## Kaggle API Connection "
   ]
  },
  {
   "cell_type": "code",
   "execution_count": 14,
   "id": "632eff83",
   "metadata": {},
   "outputs": [],
   "source": [
    "from kaggle.api.kaggle_api_extended import KaggleApi\n",
    "api = KaggleApi()\n",
    "api.authenticate()"
   ]
  },
  {
   "cell_type": "markdown",
   "id": "c36b2fd3",
   "metadata": {},
   "source": [
    "## Download Data from Kaggle "
   ]
  },
  {
   "cell_type": "code",
   "execution_count": 19,
   "id": "ad766610",
   "metadata": {},
   "outputs": [
    {
     "data": {
      "text/plain": [
       "True"
      ]
     },
     "execution_count": 19,
     "metadata": {},
     "output_type": "execute_result"
    }
   ],
   "source": [
    "api.dataset_download_file('budincsevity/szeged-weather','weatherHistory.csv')"
   ]
  },
  {
   "cell_type": "markdown",
   "id": "1422e496",
   "metadata": {},
   "source": [
    "## Unzip The Downloaded Dataset File "
   ]
  },
  {
   "cell_type": "code",
   "execution_count": 20,
   "id": "c1f71cbb",
   "metadata": {},
   "outputs": [],
   "source": [
    "from zipfile import ZipFile\n",
    "zf = ZipFile('weatherHistory.csv.zip')\n",
    "#extracted data is saved in the same directory as notebook\n",
    "zf.extractall() \n",
    "zf.close()"
   ]
  },
  {
   "cell_type": "markdown",
   "id": "05c70c38",
   "metadata": {},
   "source": [
    "## Read Required Data From CSV File"
   ]
  },
  {
   "cell_type": "code",
   "execution_count": 24,
   "id": "3c6ae2b7",
   "metadata": {},
   "outputs": [
    {
     "name": "stdout",
     "output_type": "stream",
     "text": [
      "       Apparent Temperature (C)  Humidity\n",
      "0                      7.388889      0.89\n",
      "1                      7.227778      0.86\n",
      "2                      9.377778      0.89\n",
      "3                      5.944444      0.83\n",
      "4                      6.977778      0.83\n",
      "...                         ...       ...\n",
      "96448                 26.016667      0.43\n",
      "96449                 24.583333      0.48\n",
      "96450                 22.038889      0.56\n",
      "96451                 21.522222      0.60\n",
      "96452                 20.438889      0.61\n",
      "\n",
      "[96453 rows x 2 columns]\n"
     ]
    }
   ],
   "source": [
    "df = pd.read_csv('weatherHistory.csv', usecols=['Apparent Temperature (C)', 'Humidity'])\n"
   ]
  },
  {
   "cell_type": "code",
   "execution_count": null,
   "id": "56e35929",
   "metadata": {},
   "outputs": [],
   "source": []
  }
 ],
 "metadata": {
  "kernelspec": {
   "display_name": "Python 3",
   "language": "python",
   "name": "python3"
  },
  "language_info": {
   "codemirror_mode": {
    "name": "ipython",
    "version": 3
   },
   "file_extension": ".py",
   "mimetype": "text/x-python",
   "name": "python",
   "nbconvert_exporter": "python",
   "pygments_lexer": "ipython3",
   "version": "3.9.4"
  }
 },
 "nbformat": 4,
 "nbformat_minor": 5
}
