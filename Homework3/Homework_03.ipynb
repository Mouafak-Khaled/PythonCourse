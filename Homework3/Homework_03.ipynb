{
  "nbformat": 4,
  "nbformat_minor": 0,
  "metadata": {
    "colab": {
      "name": "Homework_03.ipynb",
      "provenance": [],
      "collapsed_sections": [],
      "toc_visible": true
    },
    "kernelspec": {
      "name": "python3",
      "display_name": "Python 3"
    },
    "language_info": {
      "name": "python"
    }
  },
  "cells": [
    {
      "cell_type": "markdown",
      "metadata": {
        "id": "-iVWY-aiMeXP"
      },
      "source": [
        "#Machine Learning Models"
      ]
    },
    {
      "cell_type": "markdown",
      "metadata": {
        "id": "lK7AcB-vMoz2"
      },
      "source": [
        "##Import Libraries"
      ]
    },
    {
      "cell_type": "code",
      "metadata": {
        "id": "Sr1FyRGiMcIV"
      },
      "source": [
        "import numpy as np\n",
        "import pandas as pd\n",
        "import matplotlib.pyplot as plt\n",
        "import seaborn as sns"
      ],
      "execution_count": 18,
      "outputs": []
    },
    {
      "cell_type": "markdown",
      "metadata": {
        "id": "0I3PqqrJNXZ-"
      },
      "source": [
        "##Read Data from CSV"
      ]
    },
    {
      "cell_type": "code",
      "metadata": {
        "id": "u2kAMODEON5l",
        "colab": {
          "base_uri": "https://localhost:8080/"
        },
        "outputId": "84121717-3335-418d-d9ff-c29187158ad8"
      },
      "source": [
        "#read certain data columns from cses4_cut.csv\n",
        "dataset = np.array(pd.read_csv('cses4_cut.csv'))\n",
        "X = dataset[:,1:-1]\n",
        "N = len(X)\n",
        "\n",
        "#read the labels column from csv\n",
        "Y = np.array(pd.read_csv('cses4_cut.csv', usecols=['voted']))\n",
        "print(X.shape)\n",
        "\n",
        "## obtain the labels in the form of 1-hot encoding using sklearn\n",
        "from sklearn.preprocessing import OneHotEncoder\n",
        "encoder = OneHotEncoder(sparse=True)\n",
        "X = encoder.fit_transform(X).toarray() \n",
        "Y = encoder.fit_transform(Y).toarray() \n",
        "print(X)"
      ],
      "execution_count": 19,
      "outputs": [
        {
          "output_type": "stream",
          "text": [
            "(12451, 31)\n",
            "[[1. 0. 0. ... 0. 0. 0.]\n",
            " [0. 1. 0. ... 0. 0. 0.]\n",
            " [0. 1. 0. ... 0. 0. 0.]\n",
            " ...\n",
            " [0. 1. 0. ... 0. 0. 0.]\n",
            " [0. 1. 0. ... 0. 0. 0.]\n",
            " [1. 0. 0. ... 0. 0. 0.]]\n"
          ],
          "name": "stdout"
        }
      ]
    },
    {
      "cell_type": "markdown",
      "metadata": {
        "id": "_wRkIJRZ7M98"
      },
      "source": [
        "##Feature Selecetion with Chi Square Method"
      ]
    },
    {
      "cell_type": "code",
      "metadata": {
        "colab": {
          "base_uri": "https://localhost:8080/"
        },
        "id": "DibLfKAe7TYx",
        "outputId": "2e94e709-129c-4b1e-e469-72945b95ecc2"
      },
      "source": [
        "from sklearn.feature_selection import chi2\n",
        "from sklearn.feature_selection import SelectKBest\n",
        "test = SelectKBest(score_func=chi2, k=6)\n",
        "fit = test.fit(X, Y)\n",
        "X =test.fit_transform(X, Y)\n",
        "fit.scores_\n"
      ],
      "execution_count": 20,
      "outputs": [
        {
          "output_type": "execute_result",
          "data": {
            "text/plain": [
              "array([6.51767864e-02, 5.73532102e-02, 4.21599174e-01, 6.39689774e+00,\n",
              "       2.38795629e+01, 3.02513762e+01, 1.49867003e+00, 9.69395369e-01,\n",
              "       5.49438366e+01, 2.87787840e+01, 1.05642183e+00, 6.87697985e+00,\n",
              "       2.00502890e+00, 1.40676884e+00, 1.20390785e+00, 1.42863226e+02,\n",
              "       3.94960557e+00, 1.70247256e-04, 5.67917685e+02, 4.39885676e+00,\n",
              "       1.46628559e+00, 2.48503513e+01, 2.80520492e+01, 1.41584169e+00,\n",
              "       9.69847810e-01, 5.32813032e-02, 4.98083802e-01, 2.76844503e-01,\n",
              "       1.24187797e+01, 1.64447136e-04, 5.22110905e-04, 5.77902797e+01,\n",
              "       5.44274885e+00, 8.18568713e+01, 6.98168475e-01, 3.62377294e-01,\n",
              "       6.43663819e+01, 6.26486419e+00, 8.05909442e+01, 3.91648739e+00,\n",
              "       1.18761989e+00, 6.42684286e+01, 1.15444065e+01, 7.71813835e+01,\n",
              "       3.91648739e+00, 8.49837033e-01, 6.43663819e+01, 3.49221538e+01,\n",
              "       5.30563213e+00, 8.67740859e+00, 5.42072267e+00, 6.28394118e+01,\n",
              "       4.88186054e+02, 8.78558445e+01, 4.72147578e+00, 1.30795021e+01,\n",
              "       1.67483594e+00, 1.05019758e+01, 4.14410136e-02, 7.60361169e+00,\n",
              "       4.88761862e-01, 1.52307843e+00, 1.09767285e+00, 2.05751200e+00,\n",
              "       4.35165265e-01, 2.82857422e+00, 7.43099237e-01, 1.83505448e+00,\n",
              "       4.88761862e-01, 2.57637685e+00, 6.12756895e-02, 3.90048908e+00,\n",
              "       3.09108705e-02, 3.26373949e+00, 1.18402896e-02, 1.08791316e+00,\n",
              "       4.35165265e-01, 1.08791316e+00, 1.96096720e+00, 1.08791316e+00,\n",
              "       1.48724226e+00, 2.10352341e-01, 4.56923528e+00, 2.17582633e-01,\n",
              "       2.17582633e-01, 9.96721455e-01, 8.44029658e-01, 3.26373949e+00,\n",
              "       7.63624924e+00, 1.14926800e+01, 1.41428711e+01, 5.11954013e+00,\n",
              "       5.87473108e+00, 1.18402896e-02, 4.22014829e-01, 1.40676884e+00,\n",
              "       3.27694206e+00, 1.30549580e+00, 4.35165265e+00, 1.08791316e+00,\n",
              "       1.66453582e+00, 2.75258172e+00, 6.28752024e-01, 2.45852419e+00,\n",
              "       1.95824369e+00, 4.35165265e-01, 4.78681792e+00, 1.96201741e+00,\n",
              "       4.35165265e-01, 8.70330530e-01, 1.57345592e+00, 2.94400592e+00,\n",
              "       7.50746515e+00, 1.73296863e+00, 2.15879781e+00, 2.66135891e+00,\n",
              "       4.20704682e-01, 1.46628559e+00, 1.18402896e-02, 5.95688733e-02,\n",
              "       8.70330530e-01, 5.74904295e-01, 4.53374558e+00, 1.66453582e+00,\n",
              "       3.14376012e-01, 2.18763107e-01, 1.00376506e+01, 6.40237412e-02,\n",
              "       6.56856980e-01, 5.92014480e-03, 2.40968889e+00, 5.23761891e-02,\n",
              "       5.37356895e-01, 1.98410330e-02, 6.18217410e-02, 2.15075299e-01,\n",
              "       2.19161378e+00, 4.78472759e-01, 1.27431400e+01, 2.74079876e-01,\n",
              "       1.26913774e+00, 1.61599350e+00, 1.67984156e+01, 3.28428490e-01,\n",
              "       8.70330530e-01, 2.77099374e-01, 1.54554353e-02, 2.17582633e-01,\n",
              "       1.40676884e+00, 2.81805888e+00, 3.65071674e-01, 2.40240861e+00,\n",
              "       1.96096720e+00, 1.09767285e+00, 1.95604190e+00, 1.57345592e+00,\n",
              "       5.75969216e-04, 1.54035912e+00, 2.82857422e+00, 3.93374718e-01,\n",
              "       6.34742562e+00, 7.54346142e-01, 3.49716971e-01, 5.92014480e-03,\n",
              "       9.89491164e-01, 2.77099374e-01, 8.44127494e-03, 1.12078887e-01,\n",
              "       2.40142981e-01, 6.52747898e-01, 2.24497630e-01, 5.77656210e-01,\n",
              "       1.30549580e+00, 4.47145832e+00, 4.40751999e+00, 9.89491164e-01,\n",
              "       4.35165265e-01, 2.84892460e-01, 1.09894234e-01, 1.91678740e+00,\n",
              "       2.20077867e+00, 3.17856570e-06, 1.56188088e-02, 2.68678447e-01,\n",
              "       2.17582633e-01, 5.47168275e-02, 1.47200296e+00, 1.37907668e-01,\n",
              "       1.43671710e-02, 3.20935895e+00, 4.63663058e-02, 8.42971396e+01,\n",
              "       5.28076127e+01, 2.27817917e+01, 1.16175666e+01, 1.30072390e+01,\n",
              "       3.85449631e+00, 2.93257117e+00, 7.77062884e+01, 1.00925274e+02,\n",
              "       4.57441274e+01, 1.40069085e+00, 2.15557910e+00, 3.08429655e+01,\n",
              "       2.10352341e-01, 1.74221343e+00, 1.05019307e+00, 1.99215725e+02,\n",
              "       2.33405367e+01, 4.58895790e+01, 1.20832173e+02, 5.10029363e-01,\n",
              "       7.46422756e-03, 5.47990789e+00, 2.25182953e+02, 1.09026779e+02,\n",
              "       4.07697302e-02, 6.12756895e-02, 1.47200296e+00, 6.38418340e+00,\n",
              "       1.29283807e+01, 6.49083767e+01, 3.14533867e+01, 2.79768048e+00,\n",
              "       2.53827547e+00, 3.28006669e-02, 4.92353709e+01, 8.63840228e-01,\n",
              "       7.80940440e-03, 6.66439672e+01, 1.30549580e+00, 1.38549687e-01,\n",
              "       1.08791316e+00, 2.17582633e-01, 1.47200296e+00, 7.28496150e-04,\n",
              "       5.92014480e-03, 4.35165265e-01, 7.43621132e-01, 2.25716427e+00,\n",
              "       4.88761862e-01, 1.30549580e+00, 1.08791316e+00, 1.38549687e-01,\n",
              "       2.17582633e-01, 2.17582633e-01, 8.63519122e-01, 1.54554353e-02,\n",
              "       2.17582633e+00, 1.57188006e-01, 4.35165265e-01, 4.59595506e+00,\n",
              "       1.52307843e+00, 1.52307843e+00, 1.95824369e+00, 3.69191906e+00,\n",
              "       8.58023711e+00, 5.87473108e+00, 2.80138171e-01, 2.61099159e+00,\n",
              "       1.57188006e-01, 7.43621132e-01, 6.52747898e-01, 6.52747898e-01,\n",
              "       6.52747898e-01, 8.70330530e-01, 6.52747898e-01, 8.70330530e-01,\n",
              "       5.16304241e+00, 2.56562014e+00, 1.95824369e+00, 5.92014480e-03,\n",
              "       2.17582633e-01, 1.38549687e-01, 1.12055268e+00, 2.17582633e-01,\n",
              "       1.08791316e+00, 9.77523724e-01, 1.89589722e+00, 1.48724226e+00,\n",
              "       8.58023711e+00, 2.17582633e+00, 9.17527241e-01, 6.52747898e-01,\n",
              "       3.28006669e-02, 1.95824369e+00, 4.88761862e-01, 3.14376012e-01,\n",
              "       2.83702335e-01, 4.35165265e-01, 2.82857422e+00, 2.61099159e+00,\n",
              "       4.31759561e-01, 1.48724226e+00, 2.75389723e+00, 1.38549687e-01,\n",
              "       1.57188006e-01, 1.30549580e+00, 9.17527241e-01, 6.52747898e-01,\n",
              "       1.38549687e-01, 2.61099159e+00, 1.10530715e+01, 9.77523724e-01,\n",
              "       1.52307843e+00, 3.55208688e-02, 1.48724226e+00, 2.15066198e+00,\n",
              "       4.56923528e+00, 6.12756895e-02, 1.52307843e+00, 2.17582633e-01,\n",
              "       1.38549687e-01, 2.17582633e-01, 1.09767285e+00, 2.68678447e-01,\n",
              "       7.43621132e-01, 1.09433655e-01, 1.30549580e+00, 8.63519122e-01,\n",
              "       3.09108705e-02, 4.35165265e-01, 4.63663058e-02, 1.66841278e+00,\n",
              "       1.22551379e-01, 1.09433655e-01, 1.68825499e-02, 1.83916841e+00,\n",
              "       4.88761862e-01, 1.47200296e+00, 1.30549580e+00, 4.22014829e-01,\n",
              "       2.61099159e+00, 6.52747898e-01, 7.80940440e-03, 2.61099159e+00,\n",
              "       1.95824369e+00, 1.21330490e+00, 6.86553239e+00, 1.66453582e+00,\n",
              "       2.17582633e-01, 1.72906807e+00, 3.48132212e+00, 2.01381354e+00,\n",
              "       1.07290535e+00, 4.80285962e-01, 3.13577970e+00, 7.43621132e-01,\n",
              "       8.70330530e-01, 1.71721981e-01, 3.67010897e+00, 4.13229513e-03,\n",
              "       3.03736212e+00, 1.72593392e+01, 7.07998697e+01, 1.84632425e+01,\n",
              "       5.16304241e+00, 7.77829547e+00, 4.13229513e-03, 3.03736212e+00,\n",
              "       1.64430606e+01, 5.66034594e+01, 6.05702862e+01, 3.09108705e-02,\n",
              "       6.56856980e-01, 3.09199203e+01, 1.16152135e-01, 2.31937363e-01,\n",
              "       1.83505448e+00, 5.05491085e+01, 1.09632851e+01, 2.40918827e+01,\n",
              "       1.14218137e+02, 5.24951500e+00, 1.56188088e-02, 8.85959870e-01,\n",
              "       5.48388269e+01, 7.90914341e+00, 2.65666527e-01, 1.03347989e+00,\n",
              "       2.27434210e+01, 2.10573892e+01, 7.27677108e-02, 4.35164857e+01,\n",
              "       2.81634908e+01, 2.17582633e+00, 1.11962243e+01, 4.07709418e+01,\n",
              "       4.92763531e+00, 1.74451090e+01, 7.01395985e-01, 1.48262456e-01,\n",
              "       2.57357896e+00, 2.75073156e-03, 1.59083873e+00, 3.82057058e-01,\n",
              "       1.09433655e-01, 8.93353613e+00, 1.52307843e+00, 2.10039516e+00,\n",
              "       1.57188006e-01, 6.52747898e-01, 4.35165265e-01, 4.86713429e+00,\n",
              "       4.96745155e+00, 1.00251445e+00, 2.94918040e+02, 1.93041166e+01,\n",
              "       1.88989389e+01, 1.10974669e+01, 1.34450756e+00, 3.07655221e-01,\n",
              "       3.28952748e-02, 1.23435621e-01, 2.86547605e+00, 2.10352341e-01,\n",
              "       2.81353769e+00, 2.81353769e+00, 1.40676884e+00, 2.17582633e-01,\n",
              "       2.17582633e-01, 2.17582633e-01, 2.73099003e+00, 5.75969216e-04,\n",
              "       1.06974042e+02, 3.54728002e+01, 6.00824610e+00, 1.11771495e+00,\n",
              "       4.48207622e-01, 2.45102758e-01, 8.44127494e-03, 5.46198005e-01,\n",
              "       9.19191011e+00, 3.40090018e+00, 2.93257117e+00, 7.53784187e+01,\n",
              "       9.57112790e+01, 3.51253241e+01, 2.61722837e-01, 1.13493403e+00,\n",
              "       2.53962134e+00, 1.57001969e+00, 3.64248075e-03, 1.28013699e+00,\n",
              "       6.66534491e+00, 2.72178162e+00, 1.02228038e+01, 7.10876616e+01,\n",
              "       4.02763316e-02, 1.66171524e-01, 2.56998607e+00, 1.81930183e+02,\n",
              "       3.16749742e+01, 8.78855283e+01, 6.98168475e-01, 2.07387119e+01,\n",
              "       1.99609222e+01, 8.65179694e+00, 2.17582633e+00, 4.13229513e-03,\n",
              "       1.30018245e+00, 5.91540078e+00, 9.76883601e-01, 5.00523835e+00,\n",
              "       2.17582633e-01, 8.70330530e-01, 5.85494530e+00, 2.63094199e+00,\n",
              "       2.17582633e-01, 3.82370723e+00, 4.59595506e+00, 6.18217410e-02,\n",
              "       2.77099374e-01, 5.25346595e+01, 4.03537670e-01, 4.84859336e+00,\n",
              "       6.12756895e-02, 1.20390785e+00, 1.98784576e+00, 1.07192602e+01,\n",
              "       1.54554353e-02, 5.47168275e-02, 6.04678521e+00, 7.85940031e-01,\n",
              "       2.37283245e+00, 9.19191011e+00, 1.40676884e+00, 4.59595506e+00,\n",
              "       1.66841278e+00, 3.83476150e+01, 1.08791316e+00, 2.17582633e-01,\n",
              "       6.52747898e-01, 2.82857422e+00, 2.17582633e-01, 1.40676884e+00,\n",
              "       4.88761862e-01, 6.00755752e-01, 3.16340785e+00, 1.15193843e-03,\n",
              "       1.00251445e+00, 4.56923528e+00, 1.45699230e-03, 1.20241863e+02,\n",
              "       2.17582633e-01, 4.28929826e-01, 1.46628559e+00, 3.93576116e+00,\n",
              "       2.37432121e+01, 4.59595506e+00, 2.73099003e+00, 6.01123682e+01,\n",
              "       6.72437947e-01, 8.19516590e+00, 3.42325697e-01, 1.72393146e+01,\n",
              "       6.71943086e-02, 4.59595506e+00, 1.20839763e+01, 2.46201388e+01,\n",
              "       3.65071674e-01, 1.42515002e+01, 4.35165265e-01, 7.73594582e-03,\n",
              "       3.42432457e+00, 4.35165265e-01, 4.35165265e-01, 2.68265320e+00,\n",
              "       1.55253737e+00, 2.81353769e+00, 1.40676884e+00, 3.18401916e+01,\n",
              "       3.28096511e+00, 1.65010618e+01, 7.06527987e+00, 5.26186311e+00,\n",
              "       1.92704832e+00, 1.69110550e+01, 6.59399604e-01, 4.73769079e-02,\n",
              "       2.60532581e+00, 1.95033396e+00, 9.73331657e+00, 1.36016168e+00,\n",
              "       3.86334852e+00, 8.23924522e+00, 4.33582702e+01, 5.71682924e+00,\n",
              "       2.83232629e+00, 5.98649617e+00, 2.95410380e+00, 2.98577220e+00,\n",
              "       1.84777655e+01, 2.59055737e+00, 4.13407002e+00, 2.00502890e+00,\n",
              "       8.26495730e+00, 7.33142793e+00, 1.57089470e-01, 1.46628559e+00,\n",
              "       6.92748436e-01, 7.28496150e-04, 1.00251445e+00, 1.16152135e-01,\n",
              "       3.67654137e-01, 8.85789710e+00, 2.50261918e+01, 8.55736314e+00,\n",
              "       5.95994126e-01, 6.67365113e+00, 8.34206392e+00, 1.05322234e+00,\n",
              "       5.70289556e+00, 7.78160301e+00, 3.48456406e-01, 1.22235564e+02,\n",
              "       1.00812680e+01, 3.28428490e-01, 2.43889793e+01, 1.46628559e+00,\n",
              "       2.94761140e+00, 1.01039927e+02, 4.59148641e+01, 1.40711242e+00,\n",
              "       2.18924716e-02, 2.66079588e+00, 5.89522281e+00, 1.46014029e+01,\n",
              "       1.18402896e-02, 1.22551379e-01, 4.20193288e+01, 2.35765134e+00,\n",
              "       1.03260848e+01, 1.17504766e+01, 6.11042182e+01, 3.14376012e-01,\n",
              "       1.40676884e+00, 2.17582633e-01, 1.14551774e+01, 1.08345431e+01,\n",
              "       1.29541312e+01, 1.59828032e+00, 1.67150415e+00, 3.14993005e+01,\n",
              "       5.97474157e+01, 2.80935433e+02, 3.60168890e+02, 3.68644835e+02,\n",
              "       3.82051284e+02, 2.14668237e+02, 1.49046387e+02, 8.67574647e+01,\n",
              "       2.64046394e+01, 1.55669068e+01, 3.04012511e+00, 4.35841618e+00,\n",
              "       4.63766114e+00, 1.59867291e+00, 6.32857835e-01, 7.33509310e+00,\n",
              "       5.33164689e-04, 3.75288089e+00, 1.03995244e+00, 3.87802113e-03,\n",
              "       3.29095664e+00, 9.62975035e+00, 4.48501440e+00, 2.96380185e+00,\n",
              "       4.69630325e+00, 9.64934816e+00, 6.57620262e+00, 7.56373061e+00,\n",
              "       1.79315367e+01, 1.46804359e+01, 1.13415173e+01, 7.13492905e+00,\n",
              "       9.04342955e+00, 4.08688816e+00, 2.32786454e+00, 1.62824394e+01,\n",
              "       1.09632851e+01, 5.02699405e+00, 2.04788751e+01, 1.09122057e+01,\n",
              "       3.61532414e+00, 8.18415428e+00, 9.75736630e+00, 7.57321923e+00,\n",
              "       1.13306474e+01, 5.72792761e+00, 1.17096768e+01, 2.29961718e+00,\n",
              "       1.67662725e+01, 1.37230359e+01, 5.30318829e+00, 9.78272455e+00,\n",
              "       5.02433873e+00, 6.92905184e+00, 5.77920073e+00, 4.63264136e+00,\n",
              "       3.82634109e-01, 2.38883013e+00, 3.83184857e+00, 3.10451071e+00,\n",
              "       2.93574074e+00, 6.35713140e-06, 1.23435621e-01, 2.11007414e+00,\n",
              "       3.66181820e+00, 6.88589011e-01, 1.42036985e+00, 1.01832144e+00,\n",
              "       3.90048908e+00, 1.15193843e-03, 8.44029658e-01, 7.43621132e-01,\n",
              "       5.92014480e-03, 4.22014829e-01, 2.80138171e-01, 4.22014829e-01,\n",
              "       1.95504745e+00, 4.35165265e-01, 8.70330530e-01, 2.17582633e-01,\n",
              "       2.17582633e-01])"
            ]
          },
          "metadata": {
            "tags": []
          },
          "execution_count": 20
        }
      ]
    },
    {
      "cell_type": "markdown",
      "metadata": {
        "id": "qNLN14IB2kJx"
      },
      "source": [
        "##Dimensionality Reduction Using PCA"
      ]
    },
    {
      "cell_type": "code",
      "metadata": {
        "id": "OqYViCQBegSV"
      },
      "source": [
        "def reduce_dimentions(X):\n",
        "  from sklearn.decomposition import PCA # 1. Choose the model class\n",
        "  model = PCA(n_components=2) # 2. Instantiate the model with hyperparameters\n",
        "  model.fit(X) # 3. Fit to data. Notice y is not specified!\n",
        "  X = model.transform(X)\n",
        "  return X\n"
      ],
      "execution_count": 21,
      "outputs": []
    },
    {
      "cell_type": "markdown",
      "metadata": {
        "id": "ewG0nRdYvT9L"
      },
      "source": [
        "##Split Dataset"
      ]
    },
    {
      "cell_type": "code",
      "metadata": {
        "id": "_0ctT4eNSPcC"
      },
      "source": [
        "from sklearn.model_selection import train_test_split\n",
        "X_train, X_test,Y_train, Y_test = train_test_split(X, Y, test_size = 0.2,random_state=1)\n",
        "\n",
        "# reduce dimensionality with PCA for train and test sets\n",
        "X_train_r = reduce_dimentions(X_train)\n",
        "X_test_r= reduce_dimentions(X_test)"
      ],
      "execution_count": 22,
      "outputs": []
    },
    {
      "cell_type": "markdown",
      "metadata": {
        "id": "OmgwvOj1waBG"
      },
      "source": [
        "##Plot Training Dataset"
      ]
    },
    {
      "cell_type": "code",
      "metadata": {
        "colab": {
          "base_uri": "https://localhost:8080/",
          "height": 264
        },
        "id": "FvR9IAxswYRW",
        "outputId": "1c2aaad0-028f-4884-94c8-ef015af66739"
      },
      "source": [
        "plt.scatter(X_train_r, Y_train)\n",
        "plt.show()\n"
      ],
      "execution_count": 23,
      "outputs": [
        {
          "output_type": "display_data",
          "data": {
            "image/png": "[encoded data removed]",
            "text/plain": [
              "<Figure size 432x288 with 1 Axes>"
            ]
          },
          "metadata": {
            "tags": [],
            "needs_background": "light"
          }
        }
      ]
    },
    {
      "cell_type": "markdown",
      "metadata": {
        "id": "ghdFTb1UykgK"
      },
      "source": [
        "##Gaussian Naive Bayes Classifier"
      ]
    },
    {
      "cell_type": "code",
      "metadata": {
        "id": "kxV-1iTNwjiF"
      },
      "source": [
        "from sklearn.naive_bayes import GaussianNB # 1. choose model class\n",
        "model = GaussianNB() # 2. instantiate model\n",
        "model.fit(X_train, Y_train[:, 1]) # 3. fit model to data\n",
        "Y_model = model.predict(X_test)"
      ],
      "execution_count": 24,
      "outputs": []
    },
    {
      "cell_type": "markdown",
      "metadata": {
        "id": "chWeFnpCyzko"
      },
      "source": [
        "##GaussianNB Accuracy Score\n"
      ]
    },
    {
      "cell_type": "code",
      "metadata": {
        "id": "gb5jhzMny4xd",
        "colab": {
          "base_uri": "https://localhost:8080/"
        },
        "outputId": "1aa163a3-566e-48c9-f35a-f6d9193ff154"
      },
      "source": [
        "from sklearn.metrics import accuracy_score\n",
        "accuracy = accuracy_score(Y_test[:,1], Y_model)\n",
        "print(accuracy)"
      ],
      "execution_count": 25,
      "outputs": [
        {
          "output_type": "stream",
          "text": [
            "0.832597350461662\n"
          ],
          "name": "stdout"
        }
      ]
    },
    {
      "cell_type": "markdown",
      "metadata": {
        "id": "zHeoFg0LzftI"
      },
      "source": [
        "##Confusion Matrix for GaussianNB\n",
        "\n",
        "\n",
        "\n"
      ]
    },
    {
      "cell_type": "code",
      "metadata": {
        "colab": {
          "base_uri": "https://localhost:8080/"
        },
        "id": "m6eoTQB5zmFJ",
        "outputId": "6f8dd7b2-c304-44e5-aaa9-3b84eb243121"
      },
      "source": [
        "from sklearn.metrics import confusion_matrix\n",
        "mat = confusion_matrix(Y_test[:,1], Y_model)\n",
        "print(\"The Confusion Matrix for GaussianNB:\\n\", mat)"
      ],
      "execution_count": 26,
      "outputs": [
        {
          "output_type": "stream",
          "text": [
            "The Confusion Matrix for GaussianNB:\n",
            " [[ 103  361]\n",
            " [  56 1971]]\n"
          ],
          "name": "stdout"
        }
      ]
    },
    {
      "cell_type": "markdown",
      "metadata": {
        "id": "_wlkFczbIc-n"
      },
      "source": [
        "##KN Neighbors Classifier"
      ]
    },
    {
      "cell_type": "code",
      "metadata": {
        "id": "3Zx5hX_ZzKZ_",
        "colab": {
          "base_uri": "https://localhost:8080/"
        },
        "outputId": "4916e603-900c-418d-c95f-57befb2f253e"
      },
      "source": [
        "from sklearn.neighbors import KNeighborsClassifier\n",
        "from sklearn.model_selection import cross_val_score\n",
        "\n",
        "def tune_KNN(N, k_values):\n",
        "  accuracies = []\n",
        "  for k in k_values:\n",
        "    # instantiate kNN with given neighbor size k\n",
        "    knn = KNeighborsClassifier(n_neighbors=k)\n",
        "    # run cross validation for a given kNN setup\n",
        "    # I have setup n_jobs=-1 to use all cpus in my env.\n",
        "    scores = cross_val_score(knn, X_train, Y_train, cv=10, scoring='accuracy', n_jobs=-1)\n",
        "    accuracies.append(scores.mean())\n",
        "  return accuracies\n",
        "\n",
        "\n",
        "k_values = [i for i in range(1, 100)]\n",
        "accuracies = tune_KNN(N, k_values)\n",
        "print(accuracies)\n",
        "\n",
        "model = KNeighborsClassifier(n_neighbors= np.argmax(accuracies))\n",
        "model.fit(X_train, Y_train)\n",
        "y_model = model.predict(X_test)\n",
        "Score = accuracy_score(Y_test, y_model)\n",
        "print(Score)\n",
        "\n",
        "\n",
        "\n",
        "\n",
        "\n"
      ],
      "execution_count": 35,
      "outputs": [
        {
          "output_type": "stream",
          "text": [
            "[0.7632530120481927, 0.717269076305221, 0.7634538152610443, 0.7273092369477913, 0.8286144578313254, 0.7966867469879517, 0.8420682730923694, 0.8362449799196788, 0.8420682730923694, 0.8329317269076306, 0.8417670682730923, 0.8360441767068274, 0.8418674698795181, 0.8376506024096386, 0.8424698795180723, 0.8407630522088352, 0.8426706827309236, 0.8402610441767069, 0.8412650602409638, 0.8401606425702812, 0.8416666666666668, 0.8389558232931726, 0.8413654618473896, 0.8400602409638556, 0.8416666666666668, 0.8405622489959839, 0.8413654618473896, 0.841164658634538, 0.841164658634538, 0.839859437751004, 0.8416666666666666, 0.8388554216867471, 0.8410642570281123, 0.8382530120481928, 0.8402610441767067, 0.8376506024096386, 0.8396586345381525, 0.836847389558233, 0.8401606425702811, 0.8355421686746988, 0.8402610441767069, 0.8371485943775101, 0.8400602409638556, 0.8340361445783133, 0.8390562248995984, 0.8331325301204819, 0.8390562248995984, 0.8343373493975903, 0.8385542168674698, 0.8335341365461847, 0.8377510040160644, 0.8358433734939759, 0.839859437751004, 0.8396586345381527, 0.8397590361445783, 0.8359437751004016, 0.8395582329317269, 0.834136546184739, 0.8395582329317269, 0.8365461847389559, 0.8388554216867471, 0.8365461847389559, 0.8391566265060242, 0.8390562248995984, 0.8397590361445783, 0.8393574297188755, 0.8394578313253012, 0.8360441767068274, 0.8393574297188756, 0.835140562248996, 0.8385542168674698, 0.8348393574297189, 0.8382530120481928, 0.8371485943775101, 0.8379518072289157, 0.834136546184739, 0.8365461847389557, 0.8320281124497992, 0.8360441767068274, 0.8338353413654618, 0.8362449799196787, 0.8328313253012049, 0.835140562248996, 0.8326305220883533, 0.8337349397590362, 0.8334337349397591, 0.8337349397590362, 0.8332329317269076, 0.8335341365461849, 0.8322289156626507, 0.8334337349397591, 0.8302208835341366, 0.8335341365461847, 0.8302208835341366, 0.8332329317269076, 0.830722891566265, 0.8331325301204819, 0.8299196787148594, 0.8315261044176706]\n",
            "0.8281814532316338\n"
          ],
          "name": "stdout"
        }
      ]
    },
    {
      "cell_type": "code",
      "metadata": {
        "colab": {
          "base_uri": "https://localhost:8080/",
          "height": 296
        },
        "id": "PbQ4NVknK0J8",
        "outputId": "47e5d47a-2ed2-4a71-9d1d-b660ad56be49"
      },
      "source": [
        "plt.plot(k_values, accuracies)\n",
        "plt.xlabel('Value of K for KNN')\n",
        "plt.ylabel('Cross-Validated Accuracy')"
      ],
      "execution_count": 36,
      "outputs": [
        {
          "output_type": "execute_result",
          "data": {
            "text/plain": [
              "Text(0, 0.5, 'Cross-Validated Accuracy')"
            ]
          },
          "metadata": {
            "tags": []
          },
          "execution_count": 36
        },
        {
          "output_type": "display_data",
          "data": {
            "image/png": "[encoded data removed]",
            "text/plain": [
              "<Figure size 432x288 with 1 Axes>"
            ]
          },
          "metadata": {
            "tags": [],
            "needs_background": "light"
          }
        }
      ]
    },
    {
      "cell_type": "markdown",
      "metadata": {
        "id": "vAeLFKnWDJzW"
      },
      "source": [
        "##LogisticRegression Optimization by GridSearchCV\n",
        "\n",
        "\n",
        "\n"
      ]
    },
    {
      "cell_type": "code",
      "metadata": {
        "id": "-pnmTls2Smpf",
        "colab": {
          "base_uri": "https://localhost:8080/"
        },
        "outputId": "6a2ef5b3-d4fe-48ea-b623-aab472898d1f"
      },
      "source": [
        "from sklearn.linear_model import LogisticRegression\n",
        "model = LogisticRegression()\n",
        "param_grid = [\n",
        "              {'penalty' : ['l1','l2', 'elasticnet'],\n",
        "               'C' : np.logspace(-8,8,20),\n",
        "               'solver' : ['lbfgs', 'newton-cg', 'liblinear', 'sag', 'saga'],\n",
        "               'max_iter' : [100,1000, 2500, 5000]\n",
        "              }]\n",
        "\n",
        "from sklearn.model_selection import GridSearchCV\n",
        "clf = GridSearchCV(model, param_grid=param_grid, cv = 3, verbose=True, n_jobs=-1)\n",
        "clf_best = clf.fit(X_train, Y_train[:,1])"
      ],
      "execution_count": 29,
      "outputs": [
        {
          "output_type": "stream",
          "text": [
            "Fitting 3 folds for each of 1200 candidates, totalling 3600 fits\n"
          ],
          "name": "stdout"
        },
        {
          "output_type": "stream",
          "text": [
            "[Parallel(n_jobs=-1)]: Using backend LokyBackend with 2 concurrent workers.\n",
            "[Parallel(n_jobs=-1)]: Done 300 tasks      | elapsed:    5.1s\n",
            "[Parallel(n_jobs=-1)]: Done 2556 tasks      | elapsed:   20.3s\n",
            "[Parallel(n_jobs=-1)]: Done 3600 out of 3600 | elapsed:   29.3s finished\n"
          ],
          "name": "stderr"
        }
      ]
    },
    {
      "cell_type": "code",
      "metadata": {
        "colab": {
          "base_uri": "https://localhost:8080/"
        },
        "id": "zNPXiGErNnZA",
        "outputId": "9217cd63-acc9-499d-e1e0-b7a1ae0ced6b"
      },
      "source": [
        "clf_best.best_estimator_"
      ],
      "execution_count": 30,
      "outputs": [
        {
          "output_type": "execute_result",
          "data": {
            "text/plain": [
              "LogisticRegression(C=0.3792690190732246, class_weight=None, dual=False,\n",
              "                   fit_intercept=True, intercept_scaling=1, l1_ratio=None,\n",
              "                   max_iter=100, multi_class='auto', n_jobs=None, penalty='l1',\n",
              "                   random_state=None, solver='liblinear', tol=0.0001, verbose=0,\n",
              "                   warm_start=False)"
            ]
          },
          "metadata": {
            "tags": []
          },
          "execution_count": 30
        }
      ]
    },
    {
      "cell_type": "code",
      "metadata": {
        "id": "UmOTmTVoPDd4"
      },
      "source": [
        "best_score = clf_best.score(X_train, Y_train[:,1])\n",
        "best_param = clf_best.best_params_"
      ],
      "execution_count": 31,
      "outputs": []
    },
    {
      "cell_type": "markdown",
      "metadata": {
        "id": "OO2aamW2l8NI"
      },
      "source": [
        "##Use of LogisticRegression "
      ]
    },
    {
      "cell_type": "code",
      "metadata": {
        "colab": {
          "base_uri": "https://localhost:8080/"
        },
        "id": "AvsigrnsPjnN",
        "outputId": "d84c85db-382a-426f-b443-a8b6d819d60b"
      },
      "source": [
        "from sklearn.linear_model import LogisticRegression\n",
        "model = LogisticRegression(random_state=0, C=best_param.get('C'), penalty=best_param.get('penalty'), solver=best_param.get('solver'), max_iter=best_param.get('max_iter'))\n",
        "model.fit(X_train, Y_train[:,1])\n",
        "Y_model = model.predict(X_test) \n",
        "accuracy = accuracy_score(Y_test[:,1], Y_model)\n",
        "print(accuracy)"
      ],
      "execution_count": 32,
      "outputs": [
        {
          "output_type": "stream",
          "text": [
            "0.8334002408671216\n"
          ],
          "name": "stdout"
        }
      ]
    }
  ]
}